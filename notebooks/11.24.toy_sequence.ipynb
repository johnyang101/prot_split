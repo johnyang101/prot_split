{
 "cells": [
  {
   "cell_type": "code",
   "execution_count": 1,
   "metadata": {},
   "outputs": [
    {
     "name": "stderr",
     "output_type": "stream",
     "text": [
      "/data/rsg/chemistry/johnyang/miniconda3/envs/s2s/lib/python3.8/site-packages/tqdm/auto.py:22: TqdmWarning: IProgress not found. Please update jupyter and ipywidgets. See https://ipywidgets.readthedocs.io/en/stable/user_install.html\n",
      "  from .autonotebook import tqdm as notebook_tqdm\n"
     ]
    }
   ],
   "source": [
    "#Module imports\n",
    "import numpy as np\n",
    "import pandas as pd\n",
    "import torch\n",
    "import torch.nn as nn\n",
    "import os\n",
    "import torch.nn.functional as F"
   ]
  },
  {
   "cell_type": "code",
   "execution_count": 2,
   "metadata": {},
   "outputs": [],
   "source": [
    "# embeddings = torch.load('../data/esmvalset2.pt')"
   ]
  },
  {
   "cell_type": "code",
   "execution_count": 3,
   "metadata": {},
   "outputs": [],
   "source": [
    "dataset_folder = \"../google_prot_fns/\"\n",
    "filters = 64\n",
    "epochs = 60\n",
    "batch_size = 128\n",
    "protein_len = 200"
   ]
  },
  {
   "cell_type": "markdown",
   "metadata": {},
   "source": [
    "### As a toy example we only select the largest 2 protein families"
   ]
  },
  {
   "cell_type": "code",
   "execution_count": 4,
   "metadata": {},
   "outputs": [],
   "source": [
    "protein_family_number = 2"
   ]
  },
  {
   "cell_type": "code",
   "execution_count": 5,
   "metadata": {
    "id": "wp9lxVA7_42k"
   },
   "outputs": [],
   "source": [
    "def read_data(name_sub_folder):\n",
    "  full_data = []\n",
    "  for f in os.listdir(os.path.join(dataset_folder, name_sub_folder)):\n",
    "    data = pd.read_csv(os.path.join(dataset_folder, name_sub_folder, f))\n",
    "    full_data.append(data)\n",
    "  return pd.concat(full_data)  "
   ]
  },
  {
   "cell_type": "code",
   "execution_count": 6,
   "metadata": {
    "id": "hocFI7D_AoAA",
    "outputId": "4e690d16-5c6f-4881-f655-286b9ca0cd98"
   },
   "outputs": [
    {
     "data": {
      "text/html": [
       "<div>\n",
       "<style scoped>\n",
       "    .dataframe tbody tr th:only-of-type {\n",
       "        vertical-align: middle;\n",
       "    }\n",
       "\n",
       "    .dataframe tbody tr th {\n",
       "        vertical-align: top;\n",
       "    }\n",
       "\n",
       "    .dataframe thead th {\n",
       "        text-align: right;\n",
       "    }\n",
       "</style>\n",
       "<table border=\"1\" class=\"dataframe\">\n",
       "  <thead>\n",
       "    <tr style=\"text-align: right;\">\n",
       "      <th></th>\n",
       "      <th>family_id</th>\n",
       "      <th>sequence_name</th>\n",
       "      <th>family_accession</th>\n",
       "      <th>aligned_sequence</th>\n",
       "      <th>sequence</th>\n",
       "    </tr>\n",
       "  </thead>\n",
       "  <tbody>\n",
       "    <tr>\n",
       "      <th>0</th>\n",
       "      <td>HTH_12</td>\n",
       "      <td>D7DT16_METV3/7-72</td>\n",
       "      <td>PF08461.10</td>\n",
       "      <td>IAILNLLSKYDKPIGAKIIAEDLKLR.GYDIGERAVRYHLQSMDDD...</td>\n",
       "      <td>IAILNLLSKYDKPIGAKIIAEDLKLRGYDIGERAVRYHLQSMDDDE...</td>\n",
       "    </tr>\n",
       "    <tr>\n",
       "      <th>1</th>\n",
       "      <td>NFACT-R_1</td>\n",
       "      <td>D6GU87_PARA5/390-500</td>\n",
       "      <td>PF05670.13</td>\n",
       "      <td>KFRFFS...............TSLN......KLCIIGKDVNQ.NES...</td>\n",
       "      <td>KFRFFSTSLNKLCIIGKDVNQNESLIQKHAEKGDIVGHADVFGSPF...</td>\n",
       "    </tr>\n",
       "    <tr>\n",
       "      <th>2</th>\n",
       "      <td>Nop53</td>\n",
       "      <td>B2ASQ0_PODAN/21-405</td>\n",
       "      <td>PF07767.11</td>\n",
       "      <td>SRKGKKAWRKNVDVT...DITKGLDQLN.TQKIIGG.VIAEKDSAD...</td>\n",
       "      <td>SRKGKKAWRKNVDVTDITKGLDQLNTQKIIGGVIAEKDSADLFVLD...</td>\n",
       "    </tr>\n",
       "    <tr>\n",
       "      <th>3</th>\n",
       "      <td>DUF72</td>\n",
       "      <td>D3SM48_THEAH/20-240</td>\n",
       "      <td>PF01904.18</td>\n",
       "      <td>YPPRLRR.DE.WIKYYAKH..FVVLELNATF........YG.FPDR...</td>\n",
       "      <td>YPPRLRRDEWIKYYAKHFVVLELNATFYGFPDRGSIKSMLSRVKDL...</td>\n",
       "    </tr>\n",
       "    <tr>\n",
       "      <th>4</th>\n",
       "      <td>Glyco_hydro2_C5</td>\n",
       "      <td>U2B330_9CLOT/643-745</td>\n",
       "      <td>PF18565.1</td>\n",
       "      <td>LRLTTDKEQLSADGKSLAFLTITAVDREGRTVENAVNRILVKVEGA...</td>\n",
       "      <td>LRLTTDKEQLSADGKSLAFLTITAVDREGRTVENAVNRILVKVEGA...</td>\n",
       "    </tr>\n",
       "  </tbody>\n",
       "</table>\n",
       "</div>"
      ],
      "text/plain": [
       "         family_id         sequence_name family_accession  \\\n",
       "0           HTH_12     D7DT16_METV3/7-72       PF08461.10   \n",
       "1        NFACT-R_1  D6GU87_PARA5/390-500       PF05670.13   \n",
       "2            Nop53   B2ASQ0_PODAN/21-405       PF07767.11   \n",
       "3            DUF72   D3SM48_THEAH/20-240       PF01904.18   \n",
       "4  Glyco_hydro2_C5  U2B330_9CLOT/643-745        PF18565.1   \n",
       "\n",
       "                                    aligned_sequence  \\\n",
       "0  IAILNLLSKYDKPIGAKIIAEDLKLR.GYDIGERAVRYHLQSMDDD...   \n",
       "1  KFRFFS...............TSLN......KLCIIGKDVNQ.NES...   \n",
       "2  SRKGKKAWRKNVDVT...DITKGLDQLN.TQKIIGG.VIAEKDSAD...   \n",
       "3  YPPRLRR.DE.WIKYYAKH..FVVLELNATF........YG.FPDR...   \n",
       "4  LRLTTDKEQLSADGKSLAFLTITAVDREGRTVENAVNRILVKVEGA...   \n",
       "\n",
       "                                            sequence  \n",
       "0  IAILNLLSKYDKPIGAKIIAEDLKLRGYDIGERAVRYHLQSMDDDE...  \n",
       "1  KFRFFSTSLNKLCIIGKDVNQNESLIQKHAEKGDIVGHADVFGSPF...  \n",
       "2  SRKGKKAWRKNVDVTDITKGLDQLNTQKIIGGVIAEKDSADLFVLD...  \n",
       "3  YPPRLRRDEWIKYYAKHFVVLELNATFYGFPDRGSIKSMLSRVKDL...  \n",
       "4  LRLTTDKEQLSADGKSLAFLTITAVDREGRTVENAVNRILVKVEGA...  "
      ]
     },
     "execution_count": 6,
     "metadata": {},
     "output_type": "execute_result"
    }
   ],
   "source": [
    "dataset_train = read_data(\"train\")\n",
    "dataset_train.head()"
   ]
  },
  {
   "cell_type": "code",
   "execution_count": 7,
   "metadata": {
    "id": "6oPrHLjsBPKu",
    "outputId": "9c177ce6-1521-4f17-8fcc-3920d76948af"
   },
   "outputs": [
    {
     "data": {
      "text/html": [
       "<div>\n",
       "<style scoped>\n",
       "    .dataframe tbody tr th:only-of-type {\n",
       "        vertical-align: middle;\n",
       "    }\n",
       "\n",
       "    .dataframe tbody tr th {\n",
       "        vertical-align: top;\n",
       "    }\n",
       "\n",
       "    .dataframe thead th {\n",
       "        text-align: right;\n",
       "    }\n",
       "</style>\n",
       "<table border=\"1\" class=\"dataframe\">\n",
       "  <thead>\n",
       "    <tr style=\"text-align: right;\">\n",
       "      <th></th>\n",
       "      <th>family_id</th>\n",
       "      <th>sequence_name</th>\n",
       "      <th>family_accession</th>\n",
       "      <th>aligned_sequence</th>\n",
       "      <th>sequence</th>\n",
       "    </tr>\n",
       "  </thead>\n",
       "  <tbody>\n",
       "    <tr>\n",
       "      <th>0</th>\n",
       "      <td>HD</td>\n",
       "      <td>Q9X1N3_THEMA/52-163</td>\n",
       "      <td>PF01966.22</td>\n",
       "      <td>RFAHSLGTMHVAGLYARNLFK......................ESD...</td>\n",
       "      <td>RFAHSLGTMHVAGLYARNLFKESDRIRIVRLAALLHDVGHGPFSHQ...</td>\n",
       "    </tr>\n",
       "    <tr>\n",
       "      <th>1</th>\n",
       "      <td>ChW</td>\n",
       "      <td>K4QXH7_STRDJ/317-351</td>\n",
       "      <td>PF07538.11</td>\n",
       "      <td>HLSGSG........W.........Q.......K.....P..V.CDG...</td>\n",
       "      <td>HLSGSGWQKPVCDGTLAGTTGQEKPIKAINIAVTG</td>\n",
       "    </tr>\n",
       "    <tr>\n",
       "      <th>2</th>\n",
       "      <td>7TM_GPCR_Srd</td>\n",
       "      <td>A8WZJ1_CAEBR/10-305</td>\n",
       "      <td>PF10317.9</td>\n",
       "      <td>LSIFYPIFFVITLIAQLFLMFLIIKHSPKSIHMLRIILGLTCIFQI...</td>\n",
       "      <td>LSIFYPIFFVITLIAQLFLMFLIIKHSPKSIHMLRIILGLTCIFQI...</td>\n",
       "    </tr>\n",
       "    <tr>\n",
       "      <th>3</th>\n",
       "      <td>Integrin_beta</td>\n",
       "      <td>W5MQ40_LEPOC/123-370</td>\n",
       "      <td>PF00362.18</td>\n",
       "      <td>TEDYPVDVYYLMDLSASMSDDL.....EMIKDLGSTLSRE..MAKL...</td>\n",
       "      <td>TEDYPVDVYYLMDLSASMSDDLEMIKDLGSTLSREMAKLTSKFRLG...</td>\n",
       "    </tr>\n",
       "    <tr>\n",
       "      <th>4</th>\n",
       "      <td>Rimk_N</td>\n",
       "      <td>A0A0U2RI95_9ALTE/1-94</td>\n",
       "      <td>PF18030.1</td>\n",
       "      <td>MRIAVLSRNANL..YSTRRLKEEGEAHGHEMHIIDPLKCYMNINMQ...</td>\n",
       "      <td>MRIAVLSRNANLYSTRRLKEEGEAHGHEMHIIDPLKCYMNINMQSS...</td>\n",
       "    </tr>\n",
       "  </tbody>\n",
       "</table>\n",
       "</div>"
      ],
      "text/plain": [
       "       family_id          sequence_name family_accession  \\\n",
       "0             HD    Q9X1N3_THEMA/52-163       PF01966.22   \n",
       "1            ChW   K4QXH7_STRDJ/317-351       PF07538.11   \n",
       "2   7TM_GPCR_Srd    A8WZJ1_CAEBR/10-305        PF10317.9   \n",
       "3  Integrin_beta   W5MQ40_LEPOC/123-370       PF00362.18   \n",
       "4         Rimk_N  A0A0U2RI95_9ALTE/1-94        PF18030.1   \n",
       "\n",
       "                                    aligned_sequence  \\\n",
       "0  RFAHSLGTMHVAGLYARNLFK......................ESD...   \n",
       "1  HLSGSG........W.........Q.......K.....P..V.CDG...   \n",
       "2  LSIFYPIFFVITLIAQLFLMFLIIKHSPKSIHMLRIILGLTCIFQI...   \n",
       "3  TEDYPVDVYYLMDLSASMSDDL.....EMIKDLGSTLSRE..MAKL...   \n",
       "4  MRIAVLSRNANL..YSTRRLKEEGEAHGHEMHIIDPLKCYMNINMQ...   \n",
       "\n",
       "                                            sequence  \n",
       "0  RFAHSLGTMHVAGLYARNLFKESDRIRIVRLAALLHDVGHGPFSHQ...  \n",
       "1                HLSGSGWQKPVCDGTLAGTTGQEKPIKAINIAVTG  \n",
       "2  LSIFYPIFFVITLIAQLFLMFLIIKHSPKSIHMLRIILGLTCIFQI...  \n",
       "3  TEDYPVDVYYLMDLSASMSDDLEMIKDLGSTLSREMAKLTSKFRLG...  \n",
       "4  MRIAVLSRNANLYSTRRLKEEGEAHGHEMHIIDPLKCYMNINMQSS...  "
      ]
     },
     "execution_count": 7,
     "metadata": {},
     "output_type": "execute_result"
    }
   ],
   "source": [
    "dataset_test = read_data(\"test\")\n",
    "dataset_test.head()"
   ]
  },
  {
   "cell_type": "code",
   "execution_count": 8,
   "metadata": {
    "id": "I8VCt7qRBTbF",
    "outputId": "1c007d65-c080-40fa-9c07-5796e190806c"
   },
   "outputs": [
    {
     "data": {
      "text/html": [
       "<div>\n",
       "<style scoped>\n",
       "    .dataframe tbody tr th:only-of-type {\n",
       "        vertical-align: middle;\n",
       "    }\n",
       "\n",
       "    .dataframe tbody tr th {\n",
       "        vertical-align: top;\n",
       "    }\n",
       "\n",
       "    .dataframe thead th {\n",
       "        text-align: right;\n",
       "    }\n",
       "</style>\n",
       "<table border=\"1\" class=\"dataframe\">\n",
       "  <thead>\n",
       "    <tr style=\"text-align: right;\">\n",
       "      <th></th>\n",
       "      <th>family_id</th>\n",
       "      <th>sequence_name</th>\n",
       "      <th>family_accession</th>\n",
       "      <th>aligned_sequence</th>\n",
       "      <th>sequence</th>\n",
       "    </tr>\n",
       "  </thead>\n",
       "  <tbody>\n",
       "    <tr>\n",
       "      <th>0</th>\n",
       "      <td>ASL_C</td>\n",
       "      <td>K4A843_SETIT/406-520</td>\n",
       "      <td>PF08328.11</td>\n",
       "      <td>SRMQRDLTDSTVLRNLGVGLGHSLLAYKATMRGISKVQVNESRLAE...</td>\n",
       "      <td>SRMQRDLTDSTVLRNLGVGLGHSLLAYKATMRGISKVQVNESRLAE...</td>\n",
       "    </tr>\n",
       "    <tr>\n",
       "      <th>1</th>\n",
       "      <td>DUF1735</td>\n",
       "      <td>E7RLQ4_9BACT/29-153</td>\n",
       "      <td>PF08522.10</td>\n",
       "      <td>YKH...V............FSFI.............CN.TD........</td>\n",
       "      <td>YKHVFSFICNTDHVSQKMFNLSDTLRTGYISLSMGGSNPTDEDVTV...</td>\n",
       "    </tr>\n",
       "    <tr>\n",
       "      <th>2</th>\n",
       "      <td>DUF4846</td>\n",
       "      <td>R5X9T4_9CLOT/55-294</td>\n",
       "      <td>PF16138.5</td>\n",
       "      <td>IKERYDVPEGYERVSTEENSFGEFLRNSKLEKYGEKVKYYDGRT.....</td>\n",
       "      <td>IKERYDVPEGYERVSTEENSFGEFLRNSKLEKYGEKVKYYDGRTKD...</td>\n",
       "    </tr>\n",
       "    <tr>\n",
       "      <th>3</th>\n",
       "      <td>Candida_ALS</td>\n",
       "      <td>A5DJ08_PICGU/1856-1887</td>\n",
       "      <td>PF05792.13</td>\n",
       "      <td>TTLT.STWN.....GT...V..TTT....TT.FS...ASV.........</td>\n",
       "      <td>TTLTSTWNGTVTTTTTFSASVGGTETVIVEIP</td>\n",
       "    </tr>\n",
       "    <tr>\n",
       "      <th>4</th>\n",
       "      <td>Seipin</td>\n",
       "      <td>B6H3Z9_PENRW/52-254</td>\n",
       "      <td>PF06775.14</td>\n",
       "      <td>TFLIGISAIAYGVF.YFNFIP.TVG.LEREVHLQF..G...........</td>\n",
       "      <td>TFLIGISAIAYGVFYFNFIPTVGLEREVHLQFGDGNPWGTAHFDSE...</td>\n",
       "    </tr>\n",
       "  </tbody>\n",
       "</table>\n",
       "</div>"
      ],
      "text/plain": [
       "     family_id           sequence_name family_accession  \\\n",
       "0        ASL_C    K4A843_SETIT/406-520       PF08328.11   \n",
       "1      DUF1735     E7RLQ4_9BACT/29-153       PF08522.10   \n",
       "2      DUF4846     R5X9T4_9CLOT/55-294        PF16138.5   \n",
       "3  Candida_ALS  A5DJ08_PICGU/1856-1887       PF05792.13   \n",
       "4       Seipin     B6H3Z9_PENRW/52-254       PF06775.14   \n",
       "\n",
       "                                    aligned_sequence  \\\n",
       "0  SRMQRDLTDSTVLRNLGVGLGHSLLAYKATMRGISKVQVNESRLAE...   \n",
       "1  YKH...V............FSFI.............CN.TD........   \n",
       "2  IKERYDVPEGYERVSTEENSFGEFLRNSKLEKYGEKVKYYDGRT.....   \n",
       "3  TTLT.STWN.....GT...V..TTT....TT.FS...ASV.........   \n",
       "4  TFLIGISAIAYGVF.YFNFIP.TVG.LEREVHLQF..G...........   \n",
       "\n",
       "                                            sequence  \n",
       "0  SRMQRDLTDSTVLRNLGVGLGHSLLAYKATMRGISKVQVNESRLAE...  \n",
       "1  YKHVFSFICNTDHVSQKMFNLSDTLRTGYISLSMGGSNPTDEDVTV...  \n",
       "2  IKERYDVPEGYERVSTEENSFGEFLRNSKLEKYGEKVKYYDGRTKD...  \n",
       "3                   TTLTSTWNGTVTTTTTFSASVGGTETVIVEIP  \n",
       "4  TFLIGISAIAYGVFYFNFIPTVGLEREVHLQFGDGNPWGTAHFDSE...  "
      ]
     },
     "execution_count": 8,
     "metadata": {},
     "output_type": "execute_result"
    }
   ],
   "source": [
    "dataset_dev = read_data(\"dev\")\n",
    "dataset_dev.head()"
   ]
  },
  {
   "cell_type": "code",
   "execution_count": 9,
   "metadata": {},
   "outputs": [
    {
     "data": {
      "text/plain": [
       "PF13649.6     3637\n",
       "PF00560.33    1927\n",
       "PF13508.7     1761\n",
       "PF06580.13    1537\n",
       "PF02397.16    1528\n",
       "              ... \n",
       "PF17055.5        1\n",
       "PF09096.10       1\n",
       "PF10894.8        1\n",
       "PF03507.13       1\n",
       "PF17606.2        1\n",
       "Name: family_accession, Length: 17929, dtype: int64"
      ]
     },
     "execution_count": 9,
     "metadata": {},
     "output_type": "execute_result"
    }
   ],
   "source": [
    "dataset_train['family_accession'].value_counts()"
   ]
  },
  {
   "cell_type": "code",
   "execution_count": 10,
   "metadata": {},
   "outputs": [],
   "source": [
    "all_datasets = pd.concat([dataset_train, dataset_test, dataset_dev])"
   ]
  },
  {
   "cell_type": "code",
   "execution_count": 11,
   "metadata": {},
   "outputs": [],
   "source": [
    "classes = all_datasets['family_accession'].value_counts()[:protein_family_number].index"
   ]
  },
  {
   "cell_type": "code",
   "execution_count": 12,
   "metadata": {
    "id": "NMRK7Vn2jC1W"
   },
   "outputs": [],
   "source": [
    "def return_from_dataset(dataset, classes):\n",
    "  return [dataset.loc[dataset['family_accession'].isin(classes)].reset_index(), classes]"
   ]
  },
  {
   "cell_type": "code",
   "execution_count": 13,
   "metadata": {
    "id": "WoGgkSF2jTRY"
   },
   "outputs": [],
   "source": [
    "[toy_dataset, classes] = return_from_dataset(all_datasets, classes)"
   ]
  },
  {
   "cell_type": "code",
   "execution_count": 14,
   "metadata": {},
   "outputs": [],
   "source": [
    "# toy_dataset.to_csv(\"../data/2_class.csv\")"
   ]
  },
  {
   "cell_type": "markdown",
   "metadata": {},
   "source": [
    "We reset to save memory. Above is an example for loading the data."
   ]
  },
  {
   "cell_type": "code",
   "execution_count": 15,
   "metadata": {},
   "outputs": [
    {
     "name": "stdout",
     "output_type": "stream",
     "text": [
      "Nothing done.\n"
     ]
    }
   ],
   "source": [
    "%reset"
   ]
  },
  {
   "cell_type": "code",
   "execution_count": 16,
   "metadata": {},
   "outputs": [],
   "source": [
    "#Module imports\n",
    "import numpy as np\n",
    "import pandas as pd\n",
    "import torch\n",
    "import torch.nn as nn\n",
    "import os\n",
    "import torch.nn.functional as F"
   ]
  },
  {
   "cell_type": "code",
   "execution_count": 17,
   "metadata": {},
   "outputs": [],
   "source": [
    "dataset_folder = \"../google_prot_fns/\"\n",
    "filters = 64\n",
    "epochs = 60\n",
    "batch_size = 128\n",
    "protein_len = 200"
   ]
  },
  {
   "cell_type": "code",
   "execution_count": 18,
   "metadata": {},
   "outputs": [],
   "source": [
    "toy_dataset = pd.read_csv('../data/2_class.csv')\n",
    "classes = pd.unique(toy_dataset['family_accession'])"
   ]
  },
  {
   "cell_type": "code",
   "execution_count": 19,
   "metadata": {},
   "outputs": [
    {
     "data": {
      "text/plain": [
       "2"
      ]
     },
     "execution_count": 19,
     "metadata": {},
     "output_type": "execute_result"
    }
   ],
   "source": [
    "len(classes) #Should be 2"
   ]
  },
  {
   "cell_type": "code",
   "execution_count": 20,
   "metadata": {},
   "outputs": [],
   "source": [
    "# Irrelevant. Example. We will use ESMFnDataset defined below.\n",
    "class SeqFnDataset(torch.utils.data.Dataset):\n",
    "    def __init__(self, dataset, classes):\n",
    "        self.dataset = dataset\n",
    "        self.classes = classes\n",
    "        self.class_to_idx = {classes[i]: i for i in range(len(classes))}\n",
    "        self.idx_to_class = {i: classes[i] for i in range(len(classes))}\n",
    "        self.letter_to_num = {'C': 4, 'D': 3, 'S': 15, 'Q': 5, 'K': 11, 'I': 9,\n",
    "                'P': 14, 'T': 16, 'F': 13, 'A': 0, 'G': 7, 'H': 8,\n",
    "                'E': 6, 'L': 10, 'R': 1, 'W': 17, 'V': 19, \n",
    "                'N': 2, 'Y': 18, 'M': 12}\n",
    "        self.num_to_letter = {v:k for k, v in self.letter_to_num.items()}\n",
    "        \n",
    "    def __len__(self):\n",
    "        return len(self.dataset)\n",
    "    \n",
    "    def __getitem__(self, idx):\n",
    "        row = self.dataset.iloc[idx]\n",
    "        seq = torch.as_tensor([self.letter_to_num[a] for a in row['sequence']],\n",
    "                    device='cpu', dtype=torch.long)\n",
    "        class_idx = torch.tensor(self.class_to_idx[row['family_accession']])\n",
    "        label = F.one_hot(class_idx, num_classes=len(self.classes))\n",
    "        return seq, label\n"
   ]
  },
  {
   "cell_type": "code",
   "execution_count": 21,
   "metadata": {},
   "outputs": [],
   "source": [
    "dl = torch.utils.data.DataLoader(SeqFnDataset(toy_dataset, classes))"
   ]
  },
  {
   "cell_type": "code",
   "execution_count": 22,
   "metadata": {},
   "outputs": [
    {
     "name": "stdout",
     "output_type": "stream",
     "text": [
      "[tensor([[19, 10,  3,  9,  0,  7,  7, 16,  7,  3, 19, 16, 13, 16, 19,  0,  1, 16,\n",
      "         11,  8, 14,  1,  8,  9,  5,  4, 16,  3, 10, 19, 14,  6, 12, 10,  3, 19,\n",
      "          0,  1, 12,  8,  9,  3,  6,  7,  3,  7,  0,  7, 19, 14,  9,  3, 13,  6,\n",
      "         19, 19,  3,  0,  5,  2,  9, 14, 18,  6,  3,  0, 15, 18,  3, 19,  9, 16,\n",
      "         12,  0, 18,  7,  9,  1,  2, 12, 14,  3,  1, 14,  1,  0, 10, 15,  6, 12,\n",
      "         13,  1, 19, 10, 11, 14,  7,  7]]), tensor([[1, 0]])]\n"
     ]
    }
   ],
   "source": [
    "for batch in dl:\n",
    "    print(batch)\n",
    "    break"
   ]
  },
  {
   "cell_type": "code",
   "execution_count": 23,
   "metadata": {},
   "outputs": [],
   "source": [
    "import esm\n",
    "from esm.model.esm2 import ESM2"
   ]
  },
  {
   "cell_type": "code",
   "execution_count": 24,
   "metadata": {},
   "outputs": [],
   "source": [
    "model_data = torch.load('/data/rsg/chemistry/johnyang/home/pt_models/esm2_t33_650M_UR50D.pt')\n",
    "regression_data = torch.load('/data/rsg/chemistry/johnyang/home/pt_models/esm2_t33_650M_UR50D-contact-regression.pt')"
   ]
  },
  {
   "cell_type": "code",
   "execution_count": 25,
   "metadata": {},
   "outputs": [],
   "source": [
    "from utils.ls_utils import *"
   ]
  },
  {
   "cell_type": "code",
   "execution_count": 26,
   "metadata": {},
   "outputs": [],
   "source": [
    "from utils.gpu_utils import *"
   ]
  },
  {
   "cell_type": "code",
   "execution_count": 27,
   "metadata": {},
   "outputs": [
    {
     "name": "stdout",
     "output_type": "stream",
     "text": [
      "cuda\n",
      "Using GPUs: 0\n"
     ]
    }
   ],
   "source": [
    "chosen_gpu = get_free_gpu()\n",
    "device = 'cuda'"
   ]
  },
  {
   "cell_type": "code",
   "execution_count": 28,
   "metadata": {},
   "outputs": [
    {
     "name": "stdout",
     "output_type": "stream",
     "text": [
      "done\n"
     ]
    }
   ],
   "source": [
    "esm_model, alphabet = load_model_and_alphabet_core(\"esm2_t33_650M_UR50D\", model_data, regression_data)\n",
    "batch_converter = alphabet.get_batch_converter()\n",
    "esm_model.to(device)\n",
    "esm_model.eval()\n",
    "print('done')"
   ]
  },
  {
   "cell_type": "code",
   "execution_count": 29,
   "metadata": {},
   "outputs": [
    {
     "name": "stdout",
     "output_type": "stream",
     "text": [
      "(0, Unnamed: 0                                                          0\n",
      "index                                                             910\n",
      "family_id                                             Methyltransf_25\n",
      "sequence_name                                     S6CDL6_9ACTN/62-159\n",
      "family_accession                                            PF13649.6\n",
      "aligned_sequence    VLDIAGGT.G...D..VT...FT..VA.RT...........KH......\n",
      "sequence            VLDIAGGTGDVTFTVARTKHPRHIQCTDLVPEMLDVARMHIDEGDG...\n",
      "Name: 0, dtype: object)\n",
      "VLDIAGGTGDVTFTVARTKHPRHIQCTDLVPEMLDVARMHIDEGDGAGVPIDFEVVDAQNIPYEDASYDVITMAYGIRNMPDRPRALSEMFRVLKPGG\n"
     ]
    }
   ],
   "source": [
    "for row in toy_dataset.iterrows():\n",
    "    seq = row[1]['sequence']\n",
    "    print(row)\n",
    "    print(seq)\n",
    "    break"
   ]
  },
  {
   "cell_type": "code",
   "execution_count": 30,
   "metadata": {},
   "outputs": [],
   "source": [
    "def pad_seq_to_max_len(seq, max_len):\n",
    "    padding_token = '<pad>'\n",
    "    seq = seq + padding_token * (max_len - len(seq))\n",
    "    return seq"
   ]
  },
  {
   "cell_type": "markdown",
   "metadata": {},
   "source": [
    "We want to pad sequences to all be <= a defined length."
   ]
  },
  {
   "cell_type": "code",
   "execution_count": 31,
   "metadata": {},
   "outputs": [],
   "source": [
    "data = [(row[1]['sequence_name'], pad_seq_to_max_len(row[1].sequence, protein_len)) for row in toy_dataset.iterrows()]"
   ]
  },
  {
   "cell_type": "code",
   "execution_count": 32,
   "metadata": {},
   "outputs": [
    {
     "data": {
      "text/plain": [
       "6952"
      ]
     },
     "execution_count": 32,
     "metadata": {},
     "output_type": "execute_result"
    }
   ],
   "source": [
    "len(data)"
   ]
  },
  {
   "cell_type": "code",
   "execution_count": 33,
   "metadata": {},
   "outputs": [],
   "source": [
    "import tqdm"
   ]
  },
  {
   "cell_type": "markdown",
   "metadata": {},
   "source": [
    "KEY AREA TO IMPROVE:\n",
    "\n",
    "Here we save the embeddings in a directory ran one-by-one... This is extremely inefficient given we have 1 million sequences... \\\n",
    "\n",
    "The below script will extract embeddings given a Fasta file efficiently.\n",
    "\n",
    "python esm/scripts/extract.py esm2_t33_650M_UR50D examples/data/some_proteins.fasta \\\n",
    "    examples/data/some_proteins_emb_esm2 --repr_layers 33 --include per_tok\n",
    "\n",
    "You can write Fasta files from pandas dataframes easily. Here's an example: https://bootstrappers.umassmed.edu/guides/main/r_writeFasta.html"
   ]
  },
  {
   "cell_type": "code",
   "execution_count": 35,
   "metadata": {},
   "outputs": [
    {
     "data": {
      "text/plain": [
       "\"\\nRAN ALREADY FOR TOY EXAMPLE\\n\\nfor i, protein in tqdm.tqdm(enumerate(data)):\\n    batch_labels, batch_strs, batch_tokens = batch_converter([protein])\\n    batch_tokens = batch_tokens.to(device)\\n    with torch.no_grad():\\n        results = esm_model(batch_tokens, repr_layers=[33], return_contacts=False)\\n    embeddings = results['representations'][33].detach().cpu().numpy()\\n    sequence_name = protein[0]\\n    # Modify all slashes in sequence name to dashes or sees name as directory, perhaps this is a good thing...\\n    sequence_name = sequence_name.replace('/', '-')\\n    torch.save(embeddings, f'../data/toy_esm_embeddings/{sequence_name}.pt')\\n\""
      ]
     },
     "execution_count": 35,
     "metadata": {},
     "output_type": "execute_result"
    }
   ],
   "source": [
    "'''\n",
    "RAN ALREADY FOR TOY EXAMPLE\n",
    "\n",
    "for i, protein in tqdm.tqdm(enumerate(data)):\n",
    "    batch_labels, batch_strs, batch_tokens = batch_converter([protein])\n",
    "    batch_tokens = batch_tokens.to(device)\n",
    "    with torch.no_grad():\n",
    "        results = esm_model(batch_tokens, repr_layers=[33], return_contacts=False)\n",
    "    embeddings = results['representations'][33].detach().cpu().numpy()\n",
    "    sequence_name = protein[0]\n",
    "    # Modify all slashes in sequence name to dashes or sees name as directory, perhaps this is a good thing...\n",
    "    sequence_name = sequence_name.replace('/', '-')\n",
    "    torch.save(embeddings, f'../data/toy_esm_embeddings/{sequence_name}.pt')\n",
    "'''"
   ]
  },
  {
   "cell_type": "code",
   "execution_count": 38,
   "metadata": {},
   "outputs": [],
   "source": [
    "sequence_name = row[1]['sequence_name']\n",
    "sequence_name = sequence_name.replace('/', '-')"
   ]
  },
  {
   "cell_type": "code",
   "execution_count": 49,
   "metadata": {},
   "outputs": [
    {
     "data": {
      "text/plain": [
       "'S6CDL6_9ACTN-62-159'"
      ]
     },
     "execution_count": 49,
     "metadata": {},
     "output_type": "execute_result"
    }
   ],
   "source": [
    "sequence_name"
   ]
  },
  {
   "cell_type": "code",
   "execution_count": 39,
   "metadata": {},
   "outputs": [],
   "source": [
    "ex = torch.load(f'../data/toy_esm_embeddings/{sequence_name}.pt')"
   ]
  },
  {
   "cell_type": "code",
   "execution_count": 40,
   "metadata": {},
   "outputs": [
    {
     "data": {
      "text/plain": [
       "(1, 202, 1280)"
      ]
     },
     "execution_count": 40,
     "metadata": {},
     "output_type": "execute_result"
    }
   ],
   "source": [
    "ex.shape"
   ]
  },
  {
   "cell_type": "code",
   "execution_count": 41,
   "metadata": {},
   "outputs": [],
   "source": [
    "class ESMFnDataset(torch.utils.data.Dataset):\n",
    "    def __init__(self, dataset, classes, device='cuda', max_len=200):\n",
    "        self.dataset = dataset\n",
    "        self.classes = classes\n",
    "        self.max_len = max_len\n",
    "        self.device = device\n",
    "        self.class_to_idx = {classes[i]: i for i in range(len(classes))}\n",
    "        self.idx_to_class = {i: classes[i] for i in range(len(classes))}\n",
    "        self.letter_to_num = {'C': 4, 'D': 3, 'S': 15, 'Q': 5, 'K': 11, 'I': 9,\n",
    "                'P': 14, 'T': 16, 'F': 13, 'A': 0, 'G': 7, 'H': 8,\n",
    "                'E': 6, 'L': 10, 'R': 1, 'W': 17, 'V': 19, \n",
    "                'N': 2, 'Y': 18, 'M': 12}\n",
    "        self.num_to_letter = {v:k for k, v in self.letter_to_num.items()}\n",
    "        \n",
    "    def __len__(self):\n",
    "        return len(self.dataset)\n",
    "    \n",
    "    def __getitem__(self, idx):\n",
    "        row = self.dataset.iloc[idx]\n",
    "        sequence_name = row['sequence_name']\n",
    "        sequence_name = sequence_name.replace('/', '-')\n",
    "        embeddings = torch.load(f'../data/toy_esm_embeddings/{sequence_name}.pt')\n",
    "        embeddings = torch.tensor(embeddings, device='cuda', dtype=torch.float32)\n",
    "\n",
    "        '''Pad embeddings to max_len with zero vector'''\n",
    "        if embeddings.size(1) < self.max_len:\n",
    "            B, N, h = embeddings.size()\n",
    "            pad = torch.zeros((B, self.max_len - embeddings.shape[1], h), device=self.device)\n",
    "            embeddings = torch.cat((embeddings, pad), dim=1)\n",
    "\n",
    "        class_idx = torch.tensor(self.class_to_idx[row['family_accession']])\n",
    "        label = F.one_hot(class_idx, num_classes=len(self.classes))\n",
    "        return embeddings, label"
   ]
  },
  {
   "cell_type": "code",
   "execution_count": 42,
   "metadata": {},
   "outputs": [],
   "source": [
    "dataset = ESMFnDataset(toy_dataset, classes, device)"
   ]
  },
  {
   "cell_type": "code",
   "execution_count": 43,
   "metadata": {},
   "outputs": [],
   "source": [
    "esmdl = torch.utils.data.DataLoader(dataset)"
   ]
  },
  {
   "cell_type": "code",
   "execution_count": 44,
   "metadata": {},
   "outputs": [
    {
     "name": "stdout",
     "output_type": "stream",
     "text": [
      "tensor([[[ 0.0243,  0.0271, -0.0837,  ..., -0.2799,  0.1995,  0.0577],\n",
      "         [-0.0919, -0.0847, -0.0205,  ..., -0.0418,  0.1840, -0.1400],\n",
      "         [ 0.1741,  0.1002,  0.0078,  ...,  0.0821,  0.0727, -0.0905],\n",
      "         ...,\n",
      "         [-0.0306, -0.0665,  0.0843,  ..., -0.0120, -0.0695, -0.1188],\n",
      "         [-0.0623,  0.0503,  0.0476,  ...,  0.0348, -0.0654, -0.0851],\n",
      "         [-0.0286,  0.0321,  0.0917,  ..., -0.0120, -0.0180, -0.0668]]],\n",
      "       device='cuda:0')\n"
     ]
    }
   ],
   "source": [
    "for batch in esmdl:\n",
    "    print(batch[0][0])\n",
    "    break"
   ]
  },
  {
   "cell_type": "code",
   "execution_count": 45,
   "metadata": {},
   "outputs": [],
   "source": [
    "class TransformerEncoder(torch.nn.Module):\n",
    "    \n",
    "    def __init__(self, input_size=1280, nheads=8, num_layers=6, device='cuda', classes=2, max_len=202, **kwargs):\n",
    "        super(TransformerEncoder, self).__init__()\n",
    "        self.input_size = input_size\n",
    "        self.classes = classes\n",
    "        self.encoder_layer = nn.TransformerEncoderLayer(d_model=self.input_size, nhead=nheads, batch_first=True)\n",
    "        self.transformer_encoder = nn.TransformerEncoder(self.encoder_layer, num_layers=num_layers)\n",
    "        self.fc1 = torch.nn.Linear(self.input_size, 256)\n",
    "        self.fc2 = torch.nn.Linear(256, 32)\n",
    "        self.fc3 = torch.nn.Linear(32 * max_len, self.classes)\n",
    "        self.softmax = torch.nn.Softmax(dim=-1)\n",
    "        self.device = device\n",
    "        \n",
    "    def forward(self, embedding):\n",
    "        if len(embedding.size()) > 3 and embedding.size(0) == 1:\n",
    "            embedding = embedding.squeeze(0)\n",
    "            assert len(embedding.size()) == 3, 'Embedding has greater than 4 dimensions'\n",
    "            \n",
    "        B, N, h = embedding.shape\n",
    "        hidden = self.transformer_encoder(embedding)\n",
    "        hidden = self.fc1(hidden)\n",
    "        hidden = self.fc2(hidden)\n",
    "        '''Flatten hidden state'''\n",
    "        hidden = hidden.view(B, -1)\n",
    "        hidden = self.fc3(hidden)\n",
    "        hidden = self.softmax(hidden)\n",
    "        return hidden"
   ]
  },
  {
   "cell_type": "code",
   "execution_count": 46,
   "metadata": {},
   "outputs": [],
   "source": [
    "model = TransformerEncoder(input_size=1280, nheads=8, num_layers=6, device=device, classes=len(classes)).to(device)"
   ]
  },
  {
   "cell_type": "code",
   "execution_count": 47,
   "metadata": {},
   "outputs": [
    {
     "data": {
      "text/plain": [
       "2"
      ]
     },
     "execution_count": 47,
     "metadata": {},
     "output_type": "execute_result"
    }
   ],
   "source": [
    "len(classes)"
   ]
  },
  {
   "cell_type": "code",
   "execution_count": 48,
   "metadata": {},
   "outputs": [
    {
     "name": "stdout",
     "output_type": "stream",
     "text": [
      "torch.Size([1, 2])\n"
     ]
    }
   ],
   "source": [
    "for batch in esmdl:\n",
    "    embedding, label = batch\n",
    "    pred = model(embedding)\n",
    "    print(pred.shape) # shape is [batch_size, number of classes]\n",
    "    break"
   ]
  },
  {
   "cell_type": "markdown",
   "metadata": {},
   "source": [
    "# Learning to Split"
   ]
  },
  {
   "cell_type": "markdown",
   "metadata": {},
   "source": [
    "Having trouble running Learning to Split right now because of environment issues.\n",
    "Regardless you can focus on getting ESMFnDataset to work will all sequences.\n",
    "\n",
    "Honestly, I don't know if it's possible to run both this Transformer model on 1 million sequences nor Learning to Split but it seems like if there's anyone who can figure it out, it's you."
   ]
  },
  {
   "cell_type": "code",
   "execution_count": null,
   "metadata": {},
   "outputs": [
    {
     "ename": "",
     "evalue": "",
     "output_type": "error",
     "traceback": [
      "\u001b[1;31mFailed to start the Kernel. \n",
      "\u001b[1;31mOSError: [Errno 122] Disk quota exceeded: '/afs/csail.mit.edu/u/j/johnyang/.local/share/jupyter/runtime/kernel-v2-14552M3O3Iqk1LseI.json'. \n",
      "\u001b[1;31mView Jupyter <a href='command:jupyter.viewOutput'>log</a> for further details."
     ]
    }
   ],
   "source": [
    "import ls"
   ]
  },
  {
   "cell_type": "code",
   "execution_count": null,
   "metadata": {},
   "outputs": [
    {
     "ename": "",
     "evalue": "",
     "output_type": "error",
     "traceback": [
      "\u001b[1;31mFailed to start the Kernel. \n",
      "\u001b[1;31mOSError: [Errno 122] Disk quota exceeded: '/afs/csail.mit.edu/u/j/johnyang/.local/share/jupyter/runtime/kernel-v2-14552M3O3Iqk1LseI.json'. \n",
      "\u001b[1;31mView Jupyter <a href='command:jupyter.viewOutput'>log</a> for further details."
     ]
    }
   ],
   "source": [
    "# python scripts/extract.py esm2_t33_650M_UR50D examples/data/some_proteins.fasta \\\n",
    "#   examples/data/some_proteins_emb_esm2 --repr_layers 33 --include per_tok"
   ]
  }
 ],
 "metadata": {
  "kernelspec": {
   "display_name": "Python 3.8.12 ('s2s')",
   "language": "python",
   "name": "python3"
  },
  "language_info": {
   "codemirror_mode": {
    "name": "ipython",
    "version": 3
   },
   "file_extension": ".py",
   "mimetype": "text/x-python",
   "name": "python",
   "nbconvert_exporter": "python",
   "pygments_lexer": "ipython3",
   "version": "3.8.12"
  },
  "orig_nbformat": 4,
  "vscode": {
   "interpreter": {
    "hash": "7fa501b4aaeffe0e214aa0cbdcb67705c1047ca67f5d6d4c2be274f1571cd764"
   }
  }
 },
 "nbformat": 4,
 "nbformat_minor": 2
}
