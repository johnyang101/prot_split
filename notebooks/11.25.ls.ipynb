{
 "cells": [
  {
   "cell_type": "code",
   "execution_count": 1,
   "metadata": {},
   "outputs": [
    {
     "name": "stderr",
     "output_type": "stream",
     "text": [
      "/data/rsg/chemistry/johnyang/miniconda3/envs/ls/lib/python3.9/site-packages/tqdm/auto.py:22: TqdmWarning: IProgress not found. Please update jupyter and ipywidgets. See https://ipywidgets.readthedocs.io/en/stable/user_install.html\n",
      "  from .autonotebook import tqdm as notebook_tqdm\n"
     ]
    }
   ],
   "source": [
    "#Module imports\n",
    "import numpy as np\n",
    "import pandas as pd\n",
    "import torch\n",
    "import torch.nn as nn\n",
    "import os\n",
    "import torch.nn.functional as F"
   ]
  },
  {
   "cell_type": "code",
   "execution_count": 2,
   "metadata": {},
   "outputs": [],
   "source": [
    "dataset_folder = \"../google_prot_fns/\"\n",
    "filters = 64\n",
    "epochs = 60\n",
    "batch_size = 128\n",
    "protein_len = 200"
   ]
  },
  {
   "cell_type": "code",
   "execution_count": 3,
   "metadata": {},
   "outputs": [],
   "source": [
    "toy_dataset = pd.read_csv('../data/2_class.csv')\n",
    "classes = pd.unique(toy_dataset['family_accession'])"
   ]
  },
  {
   "cell_type": "code",
   "execution_count": 4,
   "metadata": {},
   "outputs": [
    {
     "data": {
      "text/plain": [
       "2"
      ]
     },
     "execution_count": 4,
     "metadata": {},
     "output_type": "execute_result"
    }
   ],
   "source": [
    "len(classes) #Should be 2"
   ]
  },
  {
   "cell_type": "code",
   "execution_count": 5,
   "metadata": {},
   "outputs": [],
   "source": [
    "# Irrelevant. Example. We will use ESMFnDataset defined below.\n",
    "class SeqFnDataset(torch.utils.data.Dataset):\n",
    "    def __init__(self, dataset, classes):\n",
    "        self.dataset = dataset\n",
    "        self.classes = classes\n",
    "        self.class_to_idx = {classes[i]: i for i in range(len(classes))}\n",
    "        self.idx_to_class = {i: classes[i] for i in range(len(classes))}\n",
    "        self.letter_to_num = {'C': 4, 'D': 3, 'S': 15, 'Q': 5, 'K': 11, 'I': 9,\n",
    "                'P': 14, 'T': 16, 'F': 13, 'A': 0, 'G': 7, 'H': 8,\n",
    "                'E': 6, 'L': 10, 'R': 1, 'W': 17, 'V': 19, \n",
    "                'N': 2, 'Y': 18, 'M': 12}\n",
    "        self.num_to_letter = {v:k for k, v in self.letter_to_num.items()}\n",
    "        \n",
    "    def __len__(self):\n",
    "        return len(self.dataset)\n",
    "    \n",
    "    def __getitem__(self, idx):\n",
    "        row = self.dataset.iloc[idx]\n",
    "        seq = torch.as_tensor([self.letter_to_num[a] for a in row['sequence']],\n",
    "                    device='cpu', dtype=torch.long)\n",
    "        class_idx = torch.tensor(self.class_to_idx[row['family_accession']])\n",
    "        label = F.one_hot(class_idx, num_classes=len(self.classes))\n",
    "        return seq, label\n"
   ]
  },
  {
   "cell_type": "code",
   "execution_count": 6,
   "metadata": {},
   "outputs": [],
   "source": [
    "dl = torch.utils.data.DataLoader(SeqFnDataset(toy_dataset, classes))"
   ]
  },
  {
   "cell_type": "code",
   "execution_count": 7,
   "metadata": {},
   "outputs": [
    {
     "name": "stdout",
     "output_type": "stream",
     "text": [
      "[tensor([[19, 10,  3,  9,  0,  7,  7, 16,  7,  3, 19, 16, 13, 16, 19,  0,  1, 16,\n",
      "         11,  8, 14,  1,  8,  9,  5,  4, 16,  3, 10, 19, 14,  6, 12, 10,  3, 19,\n",
      "          0,  1, 12,  8,  9,  3,  6,  7,  3,  7,  0,  7, 19, 14,  9,  3, 13,  6,\n",
      "         19, 19,  3,  0,  5,  2,  9, 14, 18,  6,  3,  0, 15, 18,  3, 19,  9, 16,\n",
      "         12,  0, 18,  7,  9,  1,  2, 12, 14,  3,  1, 14,  1,  0, 10, 15,  6, 12,\n",
      "         13,  1, 19, 10, 11, 14,  7,  7]]), tensor([[1, 0]])]\n"
     ]
    }
   ],
   "source": [
    "for batch in dl:\n",
    "    print(batch)\n",
    "    break"
   ]
  },
  {
   "cell_type": "code",
   "execution_count": 15,
   "metadata": {},
   "outputs": [],
   "source": [
    "import esmdir\n"
   ]
  },
  {
   "cell_type": "code",
   "execution_count": 16,
   "metadata": {},
   "outputs": [
    {
     "ename": "AttributeError",
     "evalue": "module 'esm' has no attribute 'data'",
     "output_type": "error",
     "traceback": [
      "\u001b[0;31m---------------------------------------------------------------------------\u001b[0m",
      "\u001b[0;31mAttributeError\u001b[0m                            Traceback (most recent call last)",
      "Cell \u001b[0;32mIn [16], line 1\u001b[0m\n\u001b[0;32m----> 1\u001b[0m \u001b[39mfrom\u001b[39;00m \u001b[39mesmdir\u001b[39;00m\u001b[39m.\u001b[39;00m\u001b[39mesm\u001b[39;00m\u001b[39m.\u001b[39;00m\u001b[39mmodel\u001b[39;00m\u001b[39m.\u001b[39;00m\u001b[39mesm2\u001b[39;00m \u001b[39mimport\u001b[39;00m ESM2\n",
      "File \u001b[0;32m/Mounts/rbg-storage1/users/johnyang/prot_split/esmdir/esm/__init__.py:10\u001b[0m\n\u001b[1;32m      8\u001b[0m \u001b[39mfrom\u001b[39;00m \u001b[39m.\u001b[39;00m\u001b[39mdata\u001b[39;00m \u001b[39mimport\u001b[39;00m Alphabet, BatchConverter, FastaBatchedDataset  \u001b[39m# noqa\u001b[39;00m\n\u001b[1;32m      9\u001b[0m \u001b[39mfrom\u001b[39;00m \u001b[39m.\u001b[39;00m\u001b[39mmodel\u001b[39;00m\u001b[39m.\u001b[39;00m\u001b[39mesm1\u001b[39;00m \u001b[39mimport\u001b[39;00m ProteinBertModel  \u001b[39m# noqa\u001b[39;00m\n\u001b[0;32m---> 10\u001b[0m \u001b[39mfrom\u001b[39;00m \u001b[39m.\u001b[39;00m\u001b[39mmodel\u001b[39;00m\u001b[39m.\u001b[39;00m\u001b[39mesm2\u001b[39;00m \u001b[39mimport\u001b[39;00m ESM2  \u001b[39m# noqa\u001b[39;00m\n\u001b[1;32m     11\u001b[0m \u001b[39mfrom\u001b[39;00m \u001b[39m.\u001b[39;00m\u001b[39mmodel\u001b[39;00m\u001b[39m.\u001b[39;00m\u001b[39mmsa_transformer\u001b[39;00m \u001b[39mimport\u001b[39;00m MSATransformer  \u001b[39m#noqa\u001b[39;00m\n\u001b[1;32m     12\u001b[0m \u001b[39mfrom\u001b[39;00m \u001b[39m.\u001b[39;00m \u001b[39mimport\u001b[39;00m pretrained  \u001b[39m# noqa\u001b[39;00m\n",
      "File \u001b[0;32m/Mounts/rbg-storage1/users/johnyang/prot_split/esmdir/esm/model/esm2.py:14\u001b[0m\n\u001b[1;32m     10\u001b[0m \u001b[39mimport\u001b[39;00m \u001b[39mesm\u001b[39;00m\n\u001b[1;32m     11\u001b[0m \u001b[39mfrom\u001b[39;00m \u001b[39mesm\u001b[39;00m\u001b[39m.\u001b[39;00m\u001b[39mmodules\u001b[39;00m \u001b[39mimport\u001b[39;00m ContactPredictionHead, ESM1bLayerNorm, RobertaLMHead, TransformerLayer\n\u001b[0;32m---> 14\u001b[0m \u001b[39mclass\u001b[39;00m \u001b[39mESM2\u001b[39;00m(nn\u001b[39m.\u001b[39mModule):\n\u001b[1;32m     15\u001b[0m     \u001b[39mdef\u001b[39;00m \u001b[39m__init__\u001b[39m(\n\u001b[1;32m     16\u001b[0m         \u001b[39mself\u001b[39m,\n\u001b[1;32m     17\u001b[0m         num_layers: \u001b[39mint\u001b[39m \u001b[39m=\u001b[39m \u001b[39m33\u001b[39m,\n\u001b[0;32m   (...)\u001b[0m\n\u001b[1;32m     21\u001b[0m         token_dropout: \u001b[39mbool\u001b[39m \u001b[39m=\u001b[39m \u001b[39mTrue\u001b[39;00m,\n\u001b[1;32m     22\u001b[0m     ):\n\u001b[1;32m     23\u001b[0m         \u001b[39msuper\u001b[39m()\u001b[39m.\u001b[39m\u001b[39m__init__\u001b[39m()\n",
      "File \u001b[0;32m/Mounts/rbg-storage1/users/johnyang/prot_split/esmdir/esm/model/esm2.py:20\u001b[0m, in \u001b[0;36mESM2\u001b[0;34m()\u001b[0m\n\u001b[1;32m     14\u001b[0m \u001b[39mclass\u001b[39;00m \u001b[39mESM2\u001b[39;00m(nn\u001b[39m.\u001b[39mModule):\n\u001b[1;32m     15\u001b[0m     \u001b[39mdef\u001b[39;00m \u001b[39m__init__\u001b[39m(\n\u001b[1;32m     16\u001b[0m         \u001b[39mself\u001b[39m,\n\u001b[1;32m     17\u001b[0m         num_layers: \u001b[39mint\u001b[39m \u001b[39m=\u001b[39m \u001b[39m33\u001b[39m,\n\u001b[1;32m     18\u001b[0m         embed_dim: \u001b[39mint\u001b[39m \u001b[39m=\u001b[39m \u001b[39m1280\u001b[39m,\n\u001b[1;32m     19\u001b[0m         attention_heads: \u001b[39mint\u001b[39m \u001b[39m=\u001b[39m \u001b[39m20\u001b[39m,\n\u001b[0;32m---> 20\u001b[0m         alphabet: Union[esm\u001b[39m.\u001b[39;49mdata\u001b[39m.\u001b[39mAlphabet, \u001b[39mstr\u001b[39m] \u001b[39m=\u001b[39m \u001b[39m\"\u001b[39m\u001b[39mESM-1b\u001b[39m\u001b[39m\"\u001b[39m,\n\u001b[1;32m     21\u001b[0m         token_dropout: \u001b[39mbool\u001b[39m \u001b[39m=\u001b[39m \u001b[39mTrue\u001b[39;00m,\n\u001b[1;32m     22\u001b[0m     ):\n\u001b[1;32m     23\u001b[0m         \u001b[39msuper\u001b[39m()\u001b[39m.\u001b[39m\u001b[39m__init__\u001b[39m()\n\u001b[1;32m     24\u001b[0m         \u001b[39mself\u001b[39m\u001b[39m.\u001b[39mnum_layers \u001b[39m=\u001b[39m num_layers\n",
      "\u001b[0;31mAttributeError\u001b[0m: module 'esm' has no attribute 'data'"
     ]
    }
   ],
   "source": [
    "from esmdir.esm.model.esm2 import ESM2"
   ]
  },
  {
   "cell_type": "code",
   "execution_count": null,
   "metadata": {},
   "outputs": [],
   "source": [
    "model_data = torch.load('/data/rsg/chemistry/johnyang/home/pt_models/esm2_t33_650M_UR50D.pt')\n",
    "regression_data = torch.load('/data/rsg/chemistry/johnyang/home/pt_models/esm2_t33_650M_UR50D-contact-regression.pt')"
   ]
  },
  {
   "cell_type": "code",
   "execution_count": 10,
   "metadata": {},
   "outputs": [
    {
     "ename": "ModuleNotFoundError",
     "evalue": "No module named 'seaborn'",
     "output_type": "error",
     "traceback": [
      "\u001b[0;31m---------------------------------------------------------------------------\u001b[0m",
      "\u001b[0;31mModuleNotFoundError\u001b[0m                       Traceback (most recent call last)",
      "Cell \u001b[0;32mIn [10], line 1\u001b[0m\n\u001b[0;32m----> 1\u001b[0m \u001b[39mfrom\u001b[39;00m \u001b[39mutils\u001b[39;00m\u001b[39m.\u001b[39;00m\u001b[39mls_utils\u001b[39;00m \u001b[39mimport\u001b[39;00m \u001b[39m*\u001b[39m\n",
      "File \u001b[0;32m/Mounts/rbg-storage1/users/johnyang/s2sDM/utils/ls_utils.py:3\u001b[0m\n\u001b[1;32m      1\u001b[0m \u001b[39mimport\u001b[39;00m \u001b[39mnumpy\u001b[39;00m \u001b[39mas\u001b[39;00m \u001b[39mnp\u001b[39;00m\n\u001b[1;32m      2\u001b[0m \u001b[39mimport\u001b[39;00m \u001b[39mpandas\u001b[39;00m \u001b[39mas\u001b[39;00m \u001b[39mpd\u001b[39;00m\n\u001b[0;32m----> 3\u001b[0m \u001b[39mimport\u001b[39;00m \u001b[39mseaborn\u001b[39;00m \u001b[39mas\u001b[39;00m \u001b[39msns\u001b[39;00m\n\u001b[1;32m      4\u001b[0m \u001b[39mimport\u001b[39;00m \u001b[39mmatplotlib\u001b[39;00m\u001b[39m.\u001b[39;00m\u001b[39mpyplot\u001b[39;00m \u001b[39mas\u001b[39;00m \u001b[39mplt\u001b[39;00m\n\u001b[1;32m      5\u001b[0m \u001b[39mimport\u001b[39;00m \u001b[39mtorch\u001b[39;00m\n",
      "\u001b[0;31mModuleNotFoundError\u001b[0m: No module named 'seaborn'"
     ]
    }
   ],
   "source": [
    "from utils.ls_utils import *"
   ]
  },
  {
   "cell_type": "code",
   "execution_count": null,
   "metadata": {},
   "outputs": [],
   "source": [
    "from utils.gpu_utils import *"
   ]
  },
  {
   "cell_type": "code",
   "execution_count": null,
   "metadata": {},
   "outputs": [
    {
     "name": "stdout",
     "output_type": "stream",
     "text": [
      "cuda\n",
      "Using GPUs: 0\n"
     ]
    }
   ],
   "source": [
    "chosen_gpu = get_free_gpu()\n",
    "device = 'cuda'"
   ]
  },
  {
   "cell_type": "code",
   "execution_count": null,
   "metadata": {},
   "outputs": [
    {
     "name": "stdout",
     "output_type": "stream",
     "text": [
      "done\n"
     ]
    }
   ],
   "source": [
    "esm_model, alphabet = load_model_and_alphabet_core(\"esm2_t33_650M_UR50D\", model_data, regression_data)\n",
    "batch_converter = alphabet.get_batch_converter()\n",
    "esm_model.to(device)\n",
    "esm_model.eval()\n",
    "print('done')"
   ]
  },
  {
   "cell_type": "code",
   "execution_count": null,
   "metadata": {},
   "outputs": [
    {
     "name": "stdout",
     "output_type": "stream",
     "text": [
      "(0, Unnamed: 0                                                          0\n",
      "index                                                             910\n",
      "family_id                                             Methyltransf_25\n",
      "sequence_name                                     S6CDL6_9ACTN/62-159\n",
      "family_accession                                            PF13649.6\n",
      "aligned_sequence    VLDIAGGT.G...D..VT...FT..VA.RT...........KH......\n",
      "sequence            VLDIAGGTGDVTFTVARTKHPRHIQCTDLVPEMLDVARMHIDEGDG...\n",
      "Name: 0, dtype: object)\n",
      "VLDIAGGTGDVTFTVARTKHPRHIQCTDLVPEMLDVARMHIDEGDGAGVPIDFEVVDAQNIPYEDASYDVITMAYGIRNMPDRPRALSEMFRVLKPGG\n"
     ]
    }
   ],
   "source": [
    "for row in toy_dataset.iterrows():\n",
    "    seq = row[1]['sequence']\n",
    "    print(row)\n",
    "    print(seq)\n",
    "    break"
   ]
  },
  {
   "cell_type": "code",
   "execution_count": null,
   "metadata": {},
   "outputs": [],
   "source": [
    "def pad_seq_to_max_len(seq, max_len):\n",
    "    padding_token = '<pad>'\n",
    "    seq = seq + padding_token * (max_len - len(seq))\n",
    "    return seq"
   ]
  },
  {
   "cell_type": "markdown",
   "metadata": {},
   "source": [
    "We want to pad sequences to all be <= a defined length."
   ]
  },
  {
   "cell_type": "code",
   "execution_count": null,
   "metadata": {},
   "outputs": [],
   "source": [
    "data = [(row[1]['sequence_name'], pad_seq_to_max_len(row[1].sequence, protein_len)) for row in toy_dataset.iterrows()]"
   ]
  },
  {
   "cell_type": "code",
   "execution_count": null,
   "metadata": {},
   "outputs": [
    {
     "data": {
      "text/plain": [
       "6952"
      ]
     },
     "execution_count": 32,
     "metadata": {},
     "output_type": "execute_result"
    }
   ],
   "source": [
    "len(data)"
   ]
  },
  {
   "cell_type": "code",
   "execution_count": null,
   "metadata": {},
   "outputs": [],
   "source": [
    "import tqdm"
   ]
  },
  {
   "cell_type": "markdown",
   "metadata": {},
   "source": [
    "KEY AREA TO IMPROVE:\n",
    "\n",
    "Here we save the embeddings in a directory ran one-by-one... This is extremely inefficient given we have 1 million sequences... \\\n",
    "\n",
    "The below script will extract embeddings given a Fasta file efficiently.\n",
    "\n",
    "python esm/scripts/extract.py esm2_t33_650M_UR50D examples/data/some_proteins.fasta \\\n",
    "    examples/data/some_proteins_emb_esm2 --repr_layers 33 --include per_tok\n",
    "\n",
    "You can write Fasta files from pandas dataframes easily. Here's an example: https://bootstrappers.umassmed.edu/guides/main/r_writeFasta.html"
   ]
  },
  {
   "cell_type": "code",
   "execution_count": null,
   "metadata": {},
   "outputs": [
    {
     "data": {
      "text/plain": [
       "\"\\nRAN ALREADY FOR TOY EXAMPLE\\n\\nfor i, protein in tqdm.tqdm(enumerate(data)):\\n    batch_labels, batch_strs, batch_tokens = batch_converter([protein])\\n    batch_tokens = batch_tokens.to(device)\\n    with torch.no_grad():\\n        results = esm_model(batch_tokens, repr_layers=[33], return_contacts=False)\\n    embeddings = results['representations'][33].detach().cpu().numpy()\\n    sequence_name = protein[0]\\n    # Modify all slashes in sequence name to dashes or sees name as directory, perhaps this is a good thing...\\n    sequence_name = sequence_name.replace('/', '-')\\n    torch.save(embeddings, f'../data/toy_esm_embeddings/{sequence_name}.pt')\\n\""
      ]
     },
     "execution_count": 35,
     "metadata": {},
     "output_type": "execute_result"
    }
   ],
   "source": [
    "'''\n",
    "RAN ALREADY FOR TOY EXAMPLE\n",
    "\n",
    "for i, protein in tqdm.tqdm(enumerate(data)):\n",
    "    batch_labels, batch_strs, batch_tokens = batch_converter([protein])\n",
    "    batch_tokens = batch_tokens.to(device)\n",
    "    with torch.no_grad():\n",
    "        results = esm_model(batch_tokens, repr_layers=[33], return_contacts=False)\n",
    "    embeddings = results['representations'][33].detach().cpu().numpy()\n",
    "    sequence_name = protein[0]\n",
    "    # Modify all slashes in sequence name to dashes or sees name as directory, perhaps this is a good thing...\n",
    "    sequence_name = sequence_name.replace('/', '-')\n",
    "    torch.save(embeddings, f'../data/toy_esm_embeddings/{sequence_name}.pt')\n",
    "'''"
   ]
  },
  {
   "cell_type": "code",
   "execution_count": null,
   "metadata": {},
   "outputs": [],
   "source": [
    "sequence_name = row[1]['sequence_name']\n",
    "sequence_name = sequence_name.replace('/', '-')"
   ]
  },
  {
   "cell_type": "code",
   "execution_count": null,
   "metadata": {},
   "outputs": [
    {
     "data": {
      "text/plain": [
       "'S6CDL6_9ACTN-62-159'"
      ]
     },
     "execution_count": 49,
     "metadata": {},
     "output_type": "execute_result"
    }
   ],
   "source": [
    "sequence_name"
   ]
  },
  {
   "cell_type": "code",
   "execution_count": null,
   "metadata": {},
   "outputs": [],
   "source": [
    "ex = torch.load(f'../data/toy_esm_embeddings/{sequence_name}.pt')"
   ]
  },
  {
   "cell_type": "code",
   "execution_count": null,
   "metadata": {},
   "outputs": [
    {
     "data": {
      "text/plain": [
       "(1, 202, 1280)"
      ]
     },
     "execution_count": 40,
     "metadata": {},
     "output_type": "execute_result"
    }
   ],
   "source": [
    "ex.shape"
   ]
  },
  {
   "cell_type": "code",
   "execution_count": null,
   "metadata": {},
   "outputs": [],
   "source": [
    "class ESMFnDataset(torch.utils.data.Dataset):\n",
    "    def __init__(self, dataset, classes, device='cuda', max_len=200):\n",
    "        self.dataset = dataset\n",
    "        self.classes = classes\n",
    "        self.max_len = max_len\n",
    "        self.device = device\n",
    "        self.class_to_idx = {classes[i]: i for i in range(len(classes))}\n",
    "        self.idx_to_class = {i: classes[i] for i in range(len(classes))}\n",
    "        self.letter_to_num = {'C': 4, 'D': 3, 'S': 15, 'Q': 5, 'K': 11, 'I': 9,\n",
    "                'P': 14, 'T': 16, 'F': 13, 'A': 0, 'G': 7, 'H': 8,\n",
    "                'E': 6, 'L': 10, 'R': 1, 'W': 17, 'V': 19, \n",
    "                'N': 2, 'Y': 18, 'M': 12}\n",
    "        self.num_to_letter = {v:k for k, v in self.letter_to_num.items()}\n",
    "        \n",
    "    def __len__(self):\n",
    "        return len(self.dataset)\n",
    "    \n",
    "    def __getitem__(self, idx):\n",
    "        row = self.dataset.iloc[idx]\n",
    "        sequence_name = row['sequence_name']\n",
    "        sequence_name = sequence_name.replace('/', '-')\n",
    "        embeddings = torch.load(f'../data/toy_esm_embeddings/{sequence_name}.pt')\n",
    "        embeddings = torch.tensor(embeddings, device='cuda', dtype=torch.float32)\n",
    "\n",
    "        '''Pad embeddings to max_len with zero vector'''\n",
    "        if embeddings.size(1) < self.max_len:\n",
    "            B, N, h = embeddings.size()\n",
    "            pad = torch.zeros((B, self.max_len - embeddings.shape[1], h), device=self.device)\n",
    "            embeddings = torch.cat((embeddings, pad), dim=1)\n",
    "\n",
    "        class_idx = torch.tensor(self.class_to_idx[row['family_accession']])\n",
    "        label = F.one_hot(class_idx, num_classes=len(self.classes))\n",
    "        return embeddings, label"
   ]
  },
  {
   "cell_type": "code",
   "execution_count": null,
   "metadata": {},
   "outputs": [],
   "source": [
    "dataset = ESMFnDataset(toy_dataset, classes, device)"
   ]
  },
  {
   "cell_type": "code",
   "execution_count": null,
   "metadata": {},
   "outputs": [],
   "source": [
    "esmdl = torch.utils.data.DataLoader(dataset)"
   ]
  },
  {
   "cell_type": "code",
   "execution_count": null,
   "metadata": {},
   "outputs": [
    {
     "name": "stdout",
     "output_type": "stream",
     "text": [
      "tensor([[[ 0.0243,  0.0271, -0.0837,  ..., -0.2799,  0.1995,  0.0577],\n",
      "         [-0.0919, -0.0847, -0.0205,  ..., -0.0418,  0.1840, -0.1400],\n",
      "         [ 0.1741,  0.1002,  0.0078,  ...,  0.0821,  0.0727, -0.0905],\n",
      "         ...,\n",
      "         [-0.0306, -0.0665,  0.0843,  ..., -0.0120, -0.0695, -0.1188],\n",
      "         [-0.0623,  0.0503,  0.0476,  ...,  0.0348, -0.0654, -0.0851],\n",
      "         [-0.0286,  0.0321,  0.0917,  ..., -0.0120, -0.0180, -0.0668]]],\n",
      "       device='cuda:0')\n"
     ]
    }
   ],
   "source": [
    "for batch in esmdl:\n",
    "    print(batch[0][0])\n",
    "    break"
   ]
  },
  {
   "cell_type": "code",
   "execution_count": null,
   "metadata": {},
   "outputs": [],
   "source": [
    "class TransformerEncoder(torch.nn.Module):\n",
    "    \n",
    "    def __init__(self, input_size=1280, nheads=8, num_layers=6, device='cuda', classes=2, max_len=202, **kwargs):\n",
    "        super(TransformerEncoder, self).__init__()\n",
    "        self.input_size = input_size\n",
    "        self.classes = classes\n",
    "        self.encoder_layer = nn.TransformerEncoderLayer(d_model=self.input_size, nhead=nheads, batch_first=True)\n",
    "        self.transformer_encoder = nn.TransformerEncoder(self.encoder_layer, num_layers=num_layers)\n",
    "        self.fc1 = torch.nn.Linear(self.input_size, 256)\n",
    "        self.fc2 = torch.nn.Linear(256, 32)\n",
    "        self.fc3 = torch.nn.Linear(32 * max_len, self.classes)\n",
    "        self.softmax = torch.nn.Softmax(dim=-1)\n",
    "        self.device = device\n",
    "        \n",
    "    def forward(self, embedding):\n",
    "        if len(embedding.size()) > 3 and embedding.size(0) == 1:\n",
    "            embedding = embedding.squeeze(0)\n",
    "            assert len(embedding.size()) == 3, 'Embedding has greater than 4 dimensions'\n",
    "            \n",
    "        B, N, h = embedding.shape\n",
    "        hidden = self.transformer_encoder(embedding)\n",
    "        hidden = self.fc1(hidden)\n",
    "        hidden = self.fc2(hidden)\n",
    "        '''Flatten hidden state'''\n",
    "        hidden = hidden.view(B, -1)\n",
    "        hidden = self.fc3(hidden)\n",
    "        hidden = self.softmax(hidden)\n",
    "        return hidden"
   ]
  },
  {
   "cell_type": "code",
   "execution_count": null,
   "metadata": {},
   "outputs": [],
   "source": [
    "model = TransformerEncoder(input_size=1280, nheads=8, num_layers=6, device=device, classes=len(classes)).to(device)"
   ]
  },
  {
   "cell_type": "code",
   "execution_count": null,
   "metadata": {},
   "outputs": [
    {
     "data": {
      "text/plain": [
       "2"
      ]
     },
     "execution_count": 47,
     "metadata": {},
     "output_type": "execute_result"
    }
   ],
   "source": [
    "len(classes)"
   ]
  },
  {
   "cell_type": "code",
   "execution_count": null,
   "metadata": {},
   "outputs": [
    {
     "name": "stdout",
     "output_type": "stream",
     "text": [
      "torch.Size([1, 2])\n"
     ]
    }
   ],
   "source": [
    "for batch in esmdl:\n",
    "    embedding, label = batch\n",
    "    pred = model(embedding)\n",
    "    print(pred.shape) # shape is [batch_size, number of classes]\n",
    "    break"
   ]
  },
  {
   "cell_type": "markdown",
   "metadata": {},
   "source": [
    "# Learning to Split"
   ]
  },
  {
   "cell_type": "code",
   "execution_count": null,
   "metadata": {},
   "outputs": [
    {
     "ename": "",
     "evalue": "",
     "output_type": "error",
     "traceback": [
      "\u001b[1;31mFailed to start the Kernel. \n",
      "\u001b[1;31mOSError: [Errno 122] Disk quota exceeded: '/afs/csail.mit.edu/u/j/johnyang/.local/share/jupyter/runtime/kernel-v2-14552M3O3Iqk1LseI.json'. \n",
      "\u001b[1;31mView Jupyter <a href='command:jupyter.viewOutput'>log</a> for further details."
     ]
    }
   ],
   "source": [
    "import ls"
   ]
  },
  {
   "cell_type": "code",
   "execution_count": null,
   "metadata": {},
   "outputs": [
    {
     "ename": "",
     "evalue": "",
     "output_type": "error",
     "traceback": [
      "\u001b[1;31mFailed to start the Kernel. \n",
      "\u001b[1;31mOSError: [Errno 122] Disk quota exceeded: '/afs/csail.mit.edu/u/j/johnyang/.local/share/jupyter/runtime/kernel-v2-14552M3O3Iqk1LseI.json'. \n",
      "\u001b[1;31mView Jupyter <a href='command:jupyter.viewOutput'>log</a> for further details."
     ]
    }
   ],
   "source": [
    "# python scripts/extract.py esm2_t33_650M_UR50D examples/data/some_proteins.fasta \\\n",
    "#   examples/data/some_proteins_emb_esm2 --repr_layers 33 --include per_tok"
   ]
  }
 ],
 "metadata": {
  "kernelspec": {
   "display_name": "Python 3.9.15 ('ls')",
   "language": "python",
   "name": "python3"
  },
  "language_info": {
   "codemirror_mode": {
    "name": "ipython",
    "version": 3
   },
   "file_extension": ".py",
   "mimetype": "text/x-python",
   "name": "python",
   "nbconvert_exporter": "python",
   "pygments_lexer": "ipython3",
   "version": "3.9.15"
  },
  "orig_nbformat": 4,
  "vscode": {
   "interpreter": {
    "hash": "faa6ec85b2c0dea77078b7f7ca40a55a382c56ca263b3344d7c521ee91fc44c6"
   }
  }
 },
 "nbformat": 4,
 "nbformat_minor": 2
}
